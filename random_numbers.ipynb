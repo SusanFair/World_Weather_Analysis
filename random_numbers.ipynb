{
 "cells": [
  {
   "cell_type": "markdown",
   "id": "7e5bcf0e",
   "metadata": {},
   "source": [
    "## Section 6.1.4 Random Module"
   ]
  },
  {
   "cell_type": "code",
   "execution_count": 19,
   "id": "e00e41dc",
   "metadata": {},
   "outputs": [],
   "source": [
    "import random\n",
    "import numpy as np"
   ]
  },
  {
   "cell_type": "markdown",
   "id": "e62e30a8",
   "metadata": {},
   "source": [
    "### Create random numbers manually"
   ]
  },
  {
   "cell_type": "code",
   "execution_count": 5,
   "id": "03522a68",
   "metadata": {},
   "outputs": [
    {
     "data": {
      "text/plain": [
       "23"
      ]
     },
     "execution_count": 5,
     "metadata": {},
     "output_type": "execute_result"
    }
   ],
   "source": [
    "random.randint(-90, 90)\n"
   ]
  },
  {
   "cell_type": "code",
   "execution_count": 6,
   "id": "c45682bc",
   "metadata": {},
   "outputs": [
    {
     "data": {
      "text/plain": [
       "0.432535024381575"
      ]
     },
     "execution_count": 6,
     "metadata": {},
     "output_type": "execute_result"
    }
   ],
   "source": [
    "random.random()"
   ]
  },
  {
   "cell_type": "code",
   "execution_count": 7,
   "id": "28fd19b3",
   "metadata": {},
   "outputs": [
    {
     "data": {
      "text/plain": [
       "14.245691413032016"
      ]
     },
     "execution_count": 7,
     "metadata": {},
     "output_type": "execute_result"
    }
   ],
   "source": [
    "# Create random latitudes\n",
    "random_number = random.randint(-90, 89) + random.random()\n",
    "random_number"
   ]
  },
  {
   "cell_type": "code",
   "execution_count": 13,
   "id": "274e6b2f",
   "metadata": {},
   "outputs": [
    {
     "data": {
      "text/plain": [
       "[-49.53128869061697,\n",
       " 51.35424829310565,\n",
       " 29.138408103450463,\n",
       " 30.169872355209424,\n",
       " 66.07680888500863,\n",
       " -70.93301035536246,\n",
       " -75.20468261212596,\n",
       " 64.49343571901485,\n",
       " 13.640001278389443,\n",
       " -59.85132824950831]"
      ]
     },
     "execution_count": 13,
     "metadata": {},
     "output_type": "execute_result"
    }
   ],
   "source": [
    "# Using random_number, create a pool of latitudes\n",
    "x = 1\n",
    "latitudes = []\n",
    "while x < 11:\n",
    "    random_lat = random.randint(-90,89) + random.random()\n",
    "    latitudes.append(random_lat)\n",
    "    x += 1\n",
    "\n",
    "latitudes"
   ]
  },
  {
   "cell_type": "code",
   "execution_count": 14,
   "id": "11ac2da3",
   "metadata": {},
   "outputs": [
    {
     "data": {
      "text/plain": [
       "-64"
      ]
     },
     "execution_count": 14,
     "metadata": {},
     "output_type": "execute_result"
    }
   ],
   "source": [
    "# Random range\n",
    "random.randrange(-90, 90, step=1)\n"
   ]
  },
  {
   "cell_type": "code",
   "execution_count": 17,
   "id": "b7f1509c",
   "metadata": {},
   "outputs": [
    {
     "data": {
      "text/plain": [
       "7.082111148464463"
      ]
     },
     "execution_count": 17,
     "metadata": {},
     "output_type": "execute_result"
    }
   ],
   "source": [
    "# Random uniform\n",
    "random.uniform(-90, 90)\n"
   ]
  },
  {
   "cell_type": "markdown",
   "id": "f4d07a01",
   "metadata": {},
   "source": [
    "### Create random numbers using Numpy"
   ]
  },
  {
   "cell_type": "code",
   "execution_count": 23,
   "id": "a2009520",
   "metadata": {},
   "outputs": [
    {
     "data": {
      "text/plain": [
       "array([-54.22483726,  27.5434892 , -52.62429482, -25.87798726,\n",
       "        -6.07447656, -22.38734546,  82.6336954 , -35.12144753,\n",
       "        79.18806852,  81.63950764,   7.51050259, -23.2112811 ,\n",
       "       -20.41053824,  49.3304116 ,  60.32175439,  67.84017045,\n",
       "        65.69412486, -40.67112957,  62.09933424, -57.83367534,\n",
       "       -15.56328996,  47.49354753,  26.43216986,  -6.09113007,\n",
       "        19.59568346, -86.28647321, -66.92171404, -27.1428416 ,\n",
       "        88.56913789,  52.64948375,  49.65623967,  27.80115645,\n",
       "       -87.63218172,  21.34900154, -54.4477789 ,  51.87317035,\n",
       "        86.04106159,  12.12499441, -47.16448422,  56.13975002,\n",
       "        26.17423491,  74.03332272,  20.47713069,  68.18861877,\n",
       "        83.34338   , -34.6514114 ,  51.72407392,  10.27039253,\n",
       "       -57.84203664, -60.49357804])"
      ]
     },
     "execution_count": 23,
     "metadata": {},
     "output_type": "execute_result"
    }
   ],
   "source": [
    "np.random.uniform(-90.000, 90.000, size=50)"
   ]
  },
  {
   "cell_type": "code",
   "execution_count": 26,
   "id": "34f448ce",
   "metadata": {},
   "outputs": [],
   "source": [
    "import timeit"
   ]
  },
  {
   "cell_type": "code",
   "execution_count": 27,
   "id": "83807a98",
   "metadata": {},
   "outputs": [
    {
     "name": "stdout",
     "output_type": "stream",
     "text": [
      "19.2 µs ± 76.5 ns per loop (mean ± std. dev. of 7 runs, 100000 loops each)\n"
     ]
    }
   ],
   "source": [
    "%timeit np.random.uniform(-90.000, 90.000, size=1500)"
   ]
  },
  {
   "cell_type": "code",
   "execution_count": 28,
   "id": "dbceb75b",
   "metadata": {},
   "outputs": [
    {
     "name": "stdout",
     "output_type": "stream",
     "text": [
      "3.03 ms ± 288 µs per loop (mean ± std. dev. of 7 runs, 100 loops each)\n"
     ]
    }
   ],
   "source": [
    "def latitudes(size):\n",
    "    latitudes = []\n",
    "    x = 0\n",
    "    while x < (size):\n",
    "        random_lat = random.randint(-90,89) + random.random()\n",
    "        latitudes.append(random_lat)\n",
    "        x += 1\n",
    "    return latitudes\n",
    "#Call the function with 1500\n",
    "%timeit latitudes(1500)"
   ]
  },
  {
   "cell_type": "code",
   "execution_count": null,
   "id": "7c8fba16",
   "metadata": {},
   "outputs": [],
   "source": []
  }
 ],
 "metadata": {
  "kernelspec": {
   "display_name": "PythonData",
   "language": "python",
   "name": "pythondata"
  },
  "language_info": {
   "codemirror_mode": {
    "name": "ipython",
    "version": 3
   },
   "file_extension": ".py",
   "mimetype": "text/x-python",
   "name": "python",
   "nbconvert_exporter": "python",
   "pygments_lexer": "ipython3",
   "version": "3.7.15"
  }
 },
 "nbformat": 4,
 "nbformat_minor": 5
}
